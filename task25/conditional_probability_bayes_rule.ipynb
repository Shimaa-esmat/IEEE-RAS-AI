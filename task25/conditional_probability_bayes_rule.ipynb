{
 "cells": [
  {
   "cell_type": "markdown",
   "metadata": {},
   "source": [
    "# Conditional Probability & Bayes Rule Quiz"
   ]
  },
  {
   "cell_type": "code",
   "execution_count": null,
   "metadata": {},
   "outputs": [],
   "source": [
    "# load dataset\n",
    "import pandas as pd\n",
    "import numpy as np\n",
    "with_cancer= pd.read_csv('with_cancer.csv')\n",
    "without_cancer= pd.read_csv('without_cancer.csv')\n",
    "df = pd.read_csv('cancer_test_data.csv')\n",
    "df.head(),without_cancer.head(),with_cancer.head()"
   ]
  },
  {
   "cell_type": "code",
   "execution_count": null,
   "metadata": {},
   "outputs": [],
   "source": [
    "p_c = (df['has_cancer'] == True ).mean()\n",
    "p_nc = (df['has_cancer'] == False ).mean()"
   ]
  },
  {
   "cell_type": "code",
   "execution_count": null,
   "metadata": {},
   "outputs": [],
   "source": [
    "p_pos_c = (with_cancer['test_result'] == 'Positive' ).mean()\n",
    "p_pos_nc = (without_cancer['test_result'] == 'Positive').mean()\n",
    "p_neg_c = (with_cancer['test_result'] == 'Negative').mean()\n",
    "p_neg_nc = (without_cancer['test_result'] == 'Negative').mean()"
   ]
  },
  {
   "cell_type": "code",
   "execution_count": null,
   "metadata": {},
   "outputs": [],
   "source": [
    "p_pos = (df['test_result'] == 'Positive' ).mean()\n",
    "p_neg = (df['test_result'] == 'Negative').mean()"
   ]
  },
  {
   "cell_type": "code",
   "execution_count": null,
   "metadata": {},
   "outputs": [],
   "source": [
    "# What proportion of patients who tested positive have cancer?\n",
    "# using  Bayes Rule  P(c|pos) = (P(pos|c) * P(c)) / P(A,B)+P(*A,B)\n",
    "# P(c|pos) = (P(pos|c) * P(c)) / P(pos)\n",
    "p_c_pos = (p_pos_c * p_c)/p_pos\n",
    "print(p_c_pos)"
   ]
  },
  {
   "cell_type": "code",
   "execution_count": null,
   "metadata": {},
   "outputs": [],
   "source": [
    "# What proportion of patients who tested positive don't have cancer?\n",
    "p_nc_pos = (p_pos_nc * p_nc)/p_pos\n",
    "print(p_nc_pos)\n",
    "print(1-p_c_pos)"
   ]
  },
  {
   "cell_type": "code",
   "execution_count": null,
   "metadata": {},
   "outputs": [],
   "source": [
    "# What proportion of patients who tested negative have cancer?\n",
    "p_c_neg = (p_neg_c * p_c)/p_neg\n",
    "print(p_c_neg)"
   ]
  },
  {
   "cell_type": "code",
   "execution_count": null,
   "metadata": {},
   "outputs": [],
   "source": [
    "# What proportion of patients who tested negative don't have cancer?\n",
    "p_nc_neg = (p_neg_nc * p_nc)/p_neg\n",
    "print(p_nc_neg)\n",
    "print(1-p_c_neg)"
   ]
  },
  {
   "cell_type": "code",
   "execution_count": null,
   "metadata": {},
   "outputs": [],
   "source": []
  }
 ],
 "metadata": {
  "kernelspec": {
   "display_name": "Python 3 (ipykernel)",
   "language": "python",
   "name": "python3"
  },
  "language_info": {
   "codemirror_mode": {
    "name": "ipython",
    "version": 3
   },
   "file_extension": ".py",
   "mimetype": "text/x-python",
   "name": "python",
   "nbconvert_exporter": "python",
   "pygments_lexer": "ipython3",
   "version": "3.11.3"
  }
 },
 "nbformat": 4,
 "nbformat_minor": 2
}
