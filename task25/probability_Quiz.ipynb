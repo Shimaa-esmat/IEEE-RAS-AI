{
 "cells": [
  {
   "cell_type": "markdown",
   "metadata": {},
   "source": [
    "# Coin Flips and Die Rolls\n",
    "Use NumPy to create simulations and compute proportions for the following outcomes. The first one is done for you.\n",
    "\n",
    "**Please note again that we are using 0 to represent heads, and 1 to represent tails.**"
   ]
  },
  {
   "cell_type": "markdown",
   "metadata": {},
   "source": [
    "### In this quiz, you will simulate coin flips and die rolls to compute proportions for the following outcomes.\n",
    "* Two fair coin flips produce exactly two heads.\n",
    "* Three fair coin flips produce exactly one head.\n",
    "* Three biased coin flips with P(H) = 0.6 produce exactly one head.\n",
    "* A die rolls an even number.\n",
    "* Two dice roll a double.\n",
    "\n",
    "Then, you'll compare these proportions with probabilities in the quizzes below.\n",
    "\n",
    "When simulating coin flips, use 0 to represent heads and 1 to represent tails. When simulating die rolls, use the correct integers to match the numbers on the sides of a standard 6 sided die.\n",
    "\n",
    "Also, notice that you can look at the solutions if you get stuck by clicking the orange button in the top left or check the solution link at the bottom of the page.\n"
   ]
  },
  {
   "cell_type": "code",
   "execution_count": 1,
   "metadata": {},
   "outputs": [],
   "source": [
    "# import numpy\n",
    "import numpy as np"
   ]
  },
  {
   "cell_type": "markdown",
   "metadata": {},
   "source": [
    "### 1. Two fair coin flips produce exactly two heads"
   ]
  },
  {
   "cell_type": "code",
   "execution_count": 2,
   "metadata": {},
   "outputs": [
    {
     "name": "stdout",
     "output_type": "stream",
     "text": [
      "[1 1 0 ... 1 0 1]\n"
     ]
    },
    {
     "data": {
      "text/plain": [
       "0.250239"
      ]
     },
     "execution_count": 2,
     "metadata": {},
     "output_type": "execute_result"
    }
   ],
   "source": [
    "# simulate 1 million tests of two fair coin flips\n",
    "n = np.random.randint(2,size = (10**6,2))\n",
    "\n",
    "# sums of all tests\n",
    "sumn = n.sum(axis=1)\n",
    "\n",
    "\n",
    "print(sumn)\n",
    "# proportion of tests that produced exactly two heads\n",
    "(sumn == 0).mean()"
   ]
  },
  {
   "cell_type": "markdown",
   "metadata": {},
   "source": [
    "### 2. Three fair coin flips produce exactly one head"
   ]
  },
  {
   "cell_type": "code",
   "execution_count": 3,
   "metadata": {},
   "outputs": [
    {
     "name": "stdout",
     "output_type": "stream",
     "text": [
      "[2 1 2 ... 0 2 2]\n"
     ]
    },
    {
     "data": {
      "text/plain": [
       "0.374369"
      ]
     },
     "execution_count": 3,
     "metadata": {},
     "output_type": "execute_result"
    }
   ],
   "source": [
    "# simulate 1 million tests of three fair coin flips\n",
    "n = np.random.randint(2 , size = (10**6,3))\n",
    "\n",
    "# sums of all tests\n",
    "sumn = n.sum(axis=1)\n",
    "print(sumn)\n",
    "# proportion of tests that produced exactly one head\n",
    "(sumn == 1).mean()"
   ]
  },
  {
   "cell_type": "markdown",
   "metadata": {},
   "source": [
    "### 3. Three biased coin flips with P(H) = 0.6 produce exactly one head"
   ]
  },
  {
   "cell_type": "code",
   "execution_count": 4,
   "metadata": {},
   "outputs": [
    {
     "name": "stdout",
     "output_type": "stream",
     "text": [
      "[3 2 1 ... 0 1 3]\n"
     ]
    },
    {
     "data": {
      "text/plain": [
       "0.288361"
      ]
     },
     "execution_count": 4,
     "metadata": {},
     "output_type": "execute_result"
    }
   ],
   "source": [
    "# simulate 1 million tests of three biased coin flips\n",
    "# hint: use np.random.choice()\n",
    "n = np.random.choice([0,1],size = [10**6 ,3],p=[.6,.4])\n",
    "\n",
    "# sums of all tests\n",
    "sums = n.sum(axis =1)\n",
    "print(sums)\n",
    "# proportion of tests that produced exactly one head\n",
    "(sums == 2).mean()"
   ]
  },
  {
   "cell_type": "markdown",
   "metadata": {},
   "source": [
    "### 4. A die rolls an even number"
   ]
  },
  {
   "cell_type": "code",
   "execution_count": 5,
   "metadata": {},
   "outputs": [
    {
     "data": {
      "text/plain": [
       "0.500014"
      ]
     },
     "execution_count": 5,
     "metadata": {},
     "output_type": "execute_result"
    }
   ],
   "source": [
    "# simulate 1 million tests of one die roll\n",
    "n = np.random.randint(1,7,size = 10**6)\n",
    "# proportion of tests that produced an even number\n",
    "(n %2 ==0).mean()"
   ]
  },
  {
   "cell_type": "markdown",
   "metadata": {},
   "source": [
    "### 5. Two dice roll a double"
   ]
  },
  {
   "cell_type": "code",
   "execution_count": 6,
   "metadata": {},
   "outputs": [
    {
     "name": "stdout",
     "output_type": "stream",
     "text": [
      "[3 2 3 ... 4 3 4]\n",
      "[3 1 5 ... 1 3 3]\n"
     ]
    },
    {
     "data": {
      "text/plain": [
       "0.16695"
      ]
     },
     "execution_count": 6,
     "metadata": {},
     "output_type": "execute_result"
    }
   ],
   "source": [
    "# simulate the first million die rolls\n",
    "n = np.random.randint(1,7,size =(10**6))\n",
    "print(n)\n",
    "# simulate the second million die rolls\n",
    "n1 = np.random.randint(1,7,size = (10**6))\n",
    "print(n1)\n",
    "# proportion of tests where the 1st and 2nd die rolled the same number\n",
    "(n == n1).mean()"
   ]
  },
  {
   "cell_type": "code",
   "execution_count": null,
   "metadata": {},
   "outputs": [],
   "source": []
  }
 ],
 "metadata": {
  "kernelspec": {
   "display_name": "Python 3 (ipykernel)",
   "language": "python",
   "name": "python3"
  },
  "language_info": {
   "codemirror_mode": {
    "name": "ipython",
    "version": 3
   },
   "file_extension": ".py",
   "mimetype": "text/x-python",
   "name": "python",
   "nbconvert_exporter": "python",
   "pygments_lexer": "ipython3",
   "version": "3.11.3"
  }
 },
 "nbformat": 4,
 "nbformat_minor": 2
}
